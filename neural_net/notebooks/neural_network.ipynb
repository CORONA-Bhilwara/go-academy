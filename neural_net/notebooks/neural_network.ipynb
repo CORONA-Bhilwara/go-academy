{
 "cells": [
  {
   "cell_type": "markdown",
   "metadata": {},
   "source": [
    "# Neural Network in Go\n",
    "## Introduction\n",
    "In this module, we will learn about\n",
    "\n",
    "* Neural Network Basics\n",
    "    * Forward Propagation\n",
    "    * Backward Propagation\n",
    "    * Gradient Descent\n",
    "* Loading CSV files using Go\n",
    "* Golang matrix library `Gonum`\n",
    "* Traini a neural network\n",
    "* Bragging Rights\n",
    "\n",
    "Before we start writing a feed forward fully connected neural network in Go, we must go over the basics and mathematical formulation in order to understand what the hell is going on."
   ]
  },
  {
   "cell_type": "markdown",
   "metadata": {},
   "source": [
    "## Basics\n",
    "What is a neural network? I believe you have seen a picture like this before.\n",
    "\n",
    "![neural_net](neural_net.png)\n",
    "\n",
    "A neural network takes some inputs and spits out an output. Essentially, a neural network is a mathematical function that takes an input and creates an output, given a set of parameters (we called them weights.)\n",
    "\n",
    "$$\n",
    "f_{W}(\\vec{x}) = \\vec{y}\n",
    "$$\n",
    "\n",
    "For example, if we have a linear function:\n",
    "\n",
    "$$\n",
    "f_{W}(x) = W_{1}x + W_{0}\n",
    "$$\n",
    "\n",
    "This is equivalent to the equation of a line we learn in high school\n",
    "\n",
    "$$\n",
    "y = mx + b\n",
    "$$ \n",
    "\n",
    "#### If it's just a line, then what's the fuss?!\n",
    "It's actually more than a line, once you include nonlinearity activation. However, before we get to that part. Let's talk about what if `x` is a vector of inputs, i.e. `x` is a high dimensional input. How do you construct a line in higher dimensional space?"
   ]
  },
  {
   "cell_type": "markdown",
   "metadata": {},
   "source": [
    "### Affine Transformation\n",
    "When `x` is a vector of inputs:\n",
    "\n",
    "$$\n",
    "\\vec{x} = x_{0}, x_{1}, x_{2}, x_{3}, ..., x_{N}\n",
    "$$\n",
    "\n",
    "We wish to apply a linear mapping to it, i.e. saying we want to take the inputs and use them as linear combinations to produce a set of outputs. In this case, we need to use matrices.\n",
    "\n",
    "$$\n",
    "\\begin{vmatrix}\n",
    "x_{0} & x_{1} & x_{2}\n",
    "\\end{vmatrix}\n",
    "\\times\n",
    "\\begin{vmatrix}\n",
    "w_{0,0} & w_{0, 1} & w_{0, 2} \\\\\n",
    "w_{1,0} & w_{1, 1} & w_{1, 2} \\\\\n",
    "w_{2,0} & w_{2, 1} & w_{2, 2}\n",
    "\\end{vmatrix}\n",
    "$$\n",
    "\n",
    "We denote the weight matrix with a single letter $W$ and the input vector with a single letter $X$, and above equation is said to be applying a $W$ transformation on $X$. This is called *affine transformation*.\n",
    "\n",
    "Let's look at an example in Python below:"
   ]
  },
  {
   "cell_type": "code",
   "execution_count": 1,
   "metadata": {},
   "outputs": [
    {
     "name": "stdout",
     "output_type": "stream",
     "text": [
      "[6 6 6]\n"
     ]
    }
   ],
   "source": [
    "import numpy as np\n",
    "\n",
    "# We have an input, 1, 2, 3\n",
    "x = np.array([1, 2, 3])\n",
    "\n",
    "# We have a weight matrix\n",
    "W = np.array([[1, 1, 1], [1, 1, 1], [1, 1, 1]])\n",
    "\n",
    "# We perform matrix multiplication and get an output \n",
    "y = np.dot(x, W)\n",
    "\n",
    "print y "
   ]
  },
  {
   "cell_type": "markdown",
   "metadata": {},
   "source": [
    "### Non-linear Activation\n",
    "We need to make our high dimensional line flexible, the ability to curve and create non-linear mapping. The choice of activation we will use for this exercise is *sigmoid activation*\n",
    "\n",
    "$$\n",
    "\\sigma(\\vec{x}) = \\frac{1}{1 + e^{-\\vec{x}}}\n",
    "$$\n",
    "\n",
    "There are many other activation functions you can choose from, e.g. `tanh`, `ReLU`, `leaky ReLU`, `exponential` and the list goes on. For now, let's just focus on one."
   ]
  },
  {
   "cell_type": "code",
   "execution_count": 2,
   "metadata": {},
   "outputs": [
    {
     "data": {
      "image/png": "[encoded data removed]",
      "text/plain": [
       "<matplotlib.figure.Figure at 0x7fdaff658cd0>"
      ]
     },
     "metadata": {},
     "output_type": "display_data"
    }
   ],
   "source": [
    "import matplotlib\n",
    "%matplotlib inline\n",
    "from matplotlib import pyplot as plt\n",
    "\n",
    "\n",
    "def sigmoid(x):\n",
    "    return 1.0 / (1.0 + np.exp(-1 * x))\n",
    "\n",
    "\n",
    "x = np.linspace(-10, 10, num=100)\n",
    "plt.plot(x, sigmoid(x))\n",
    "plt.show()"
   ]
  },
  {
   "cell_type": "markdown",
   "metadata": {},
   "source": [
    "## How do they fit together?\n",
    "Now you are probably like, \"okay, so we began with a line, then x was originally a single value, then it became multi-dimensional input, then we talked about some matrix multiplications and sigmoid function. At this moment, you are most likely feeling:\n",
    "\n",
    "![sowhat](sowhat.gif)\n",
    "\n",
    "\n",
    "Let's head over to [TensorFlow Playground](http://playground.tensorflow.org)"
   ]
  },
  {
   "cell_type": "markdown",
   "metadata": {},
   "source": [
    "## Forward Propagation\n",
    "\n",
    "Let's imagine that we have a neural network with NO hidden layer. Let's say our input is an array of four elements, they represent `height`, `weight`, `fur_length`, and `fat ratio` of a dog. The output of the neural network would be a dog breed classification based on your input. For sake of simplicity, let's assume that there are only 3 breeds in the provided data.\n",
    "\n",
    "Input:\n",
    "$$\n",
    "\\vec{x} = [x_{0}, x_{1}, x_{2}, x_{3}]\n",
    "$$\n",
    "\n",
    "Weights:\n",
    "$$\n",
    "\\begin{vmatrix}\n",
    "w_{0,0} & w_{0, 1} & w_{0, 2} \\\\\n",
    "w_{1,0} & w_{1, 1} & w_{1, 2} \\\\\n",
    "w_{2,0} & w_{2, 1} & w_{2, 2} \\\\ \n",
    "w_{3,0} & w_{3, 1} & w_{3, 2}\n",
    "\\end{vmatrix}\n",
    "$$\n",
    "\n",
    "The input is of shape `(1, 4)` and the weight matrix is of shape `(4, 3)`. The matrix product of them is of shape `(1, 3)`, which represent the score for each classification. \n",
    "\n",
    "$$\n",
    "y_{score} = [y_{0}, y_{1}, y_{2}]\n",
    "$$"
   ]
  },
  {
   "cell_type": "code",
   "execution_count": 3,
   "metadata": {},
   "outputs": [
    {
     "name": "stdout",
     "output_type": "stream",
     "text": [
      "(2, 4)\n",
      "(4, 3)\n",
      "[[9.99999993e-01 1.00000000e+00 7.69848568e-03]\n",
      " [1.00000000e+00 1.00000000e+00 1.54759272e-04]]\n"
     ]
    }
   ],
   "source": [
    "# Let's say you have multiple dog inputs, cause you want to do a batch of classification\n",
    "dog_input_1 = [20, 10, 4, 0.90] # Completely bullshit data\n",
    "dog_input_2 = [21, 5, 3, 0.50]\n",
    "\n",
    "inputs = np.array([dog_input_1, dog_input_2])\n",
    "\n",
    "print inputs.shape\n",
    "\n",
    "W = np.random.randn(4, 3)\n",
    "\n",
    "print W.shape\n",
    "\n",
    "output = np.dot(inputs, W)\n",
    "act = sigmoid(output)\n",
    "\n",
    "print act"
   ]
  },
  {
   "cell_type": "markdown",
   "metadata": {},
   "source": [
    "Let's get fancy and do multiple hidden layers; let's try two!\n",
    "\n",
    "Input:\n",
    "$$\n",
    "\\vec{x} = [x_{0}, x_{1}, x_{2}, x_{3}]\n",
    "$$\n",
    "\n",
    "First weight matrix is of shape `(4, 4)` \n",
    "$$\n",
    "\\begin{vmatrix}\n",
    "w_{0,0} & w_{0, 1} & w_{0, 2} & w_{0, 3} \\\\\n",
    "w_{1,0} & w_{1, 1} & w_{1, 2} & w_{1, 3} \\\\\n",
    "w_{2,0} & w_{2, 1} & w_{2, 2} & w_{2, 3} \\\\ \n",
    "w_{3,0} & w_{3, 1} & w_{3, 2} & w_{3, 3}\n",
    "\\end{vmatrix}\n",
    "$$\n",
    "\n",
    "Second weight matrix is of shape `(4, 3)`\n",
    "$$\n",
    "\\begin{vmatrix}\n",
    "w_{0,0} & w_{0, 1} & w_{0, 2} \\\\\n",
    "w_{1,0} & w_{1, 1} & w_{1, 2} \\\\\n",
    "w_{2,0} & w_{2, 1} & w_{2, 2} \\\\ \n",
    "w_{3,0} & w_{3, 1} & w_{3, 2}\n",
    "\\end{vmatrix}\n",
    "$$\n",
    "\n",
    "Third weight matrix is of shape `(3, 3)`\n",
    "$$\n",
    "\\begin{vmatrix}\n",
    "w_{0,0} & w_{0, 1} & w_{0, 2} \\\\\n",
    "w_{1,0} & w_{1, 1} & w_{1, 2} \\\\\n",
    "w_{2,0} & w_{2, 1} & w_{2, 2}\n",
    "\\end{vmatrix}\n",
    "$$\n",
    "\n",
    "\n",
    "\n"
   ]
  },
  {
   "cell_type": "code",
   "execution_count": 4,
   "metadata": {},
   "outputs": [
    {
     "name": "stdout",
     "output_type": "stream",
     "text": [
      "Layer 1 output has shape (2, 4)\n",
      "Layer 2 output has shape (2, 3)\n",
      "Layer 3 output has shape (2, 3)\n",
      "Final output:\n",
      "[[0.33002431 0.70960988 0.27586594]\n",
      " [0.25604023 0.69855638 0.27129749]]\n"
     ]
    }
   ],
   "source": [
    "W1 = np.random.randn(4, 4)\n",
    "W2 = np.random.randn(4, 3)\n",
    "W3 = np.random.randn(3, 3)\n",
    "\n",
    "layer_1_output = np.dot(inputs, W1)\n",
    "layer_1_act = sigmoid(layer_1_output)\n",
    "\n",
    "print \"Layer 1 output has shape %s\" % str(layer_1_act.shape)\n",
    "\n",
    "layer_2_output = np.dot(layer_1_act, W2)\n",
    "layer_2_act = sigmoid(layer_2_output)\n",
    "\n",
    "print \"Layer 2 output has shape %s\" % str(layer_2_act.shape)\n",
    "\n",
    "layer_3_output = np.dot(layer_2_act, W3)\n",
    "layer_3_act = sigmoid(layer_3_output)\n",
    "\n",
    "print \"Layer 3 output has shape %s\" % str(layer_3_act.shape)\n",
    "\n",
    "print \"Final output:\"\n",
    "print layer_3_act"
   ]
  },
  {
   "cell_type": "code",
   "execution_count": null,
   "metadata": {},
   "outputs": [],
   "source": []
  }
 ],
 "metadata": {
  "kernelspec": {
   "display_name": "Python 2",
   "language": "python",
   "name": "python2"
  },
  "language_info": {
   "codemirror_mode": {
    "name": "ipython",
    "version": 2
   },
   "file_extension": ".py",
   "mimetype": "text/x-python",
   "name": "python",
   "nbconvert_exporter": "python",
   "pygments_lexer": "ipython2",
   "version": "2.7.6"
  }
 },
 "nbformat": 4,
 "nbformat_minor": 2
}
